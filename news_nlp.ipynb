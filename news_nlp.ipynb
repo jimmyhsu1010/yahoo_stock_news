{
 "cells": [
  {
   "cell_type": "code",
   "execution_count": null,
   "metadata": {},
   "outputs": [],
   "source": [
    "import pandas as pd\n",
    "from datetime import datetime, timedelta\n",
    "import datetime\n",
    "from snownlp import SnowNLP\n",
    "df = pd.read_excel(\"test.xlsx\")\n",
    "df\n",
    "\n"
   ]
  },
  {
   "cell_type": "code",
   "execution_count": null,
   "metadata": {},
   "outputs": [],
   "source": [
    "# 將一個月以內的新聞抓出來\n",
    "df_analysis = df[df[\"date\"]>=(pd.Timestamp.today() - pd.Timedelta(\"30days\"))]\n",
    "df_analysis[\"score\"] = 0\n",
    "# 定義情感分數計算\n",
    "def score(text):\n",
    "    s = SnowNLP(text)\n",
    "    sentences = s.sentences\n",
    "    total = 0\n",
    "    for sentence in sentences:\n",
    "        k = SnowNLP(sentence)\n",
    "        total += k.sentiments\n",
    "    return  (total / len(sentences))\n",
    "df_analysis[\"score\"] = df_analysis[\"content\"].apply(score).map(lambda x: x)\n",
    "df_analysis\n",
    "    \n",
    "\n",
    "    \n",
    "\n"
   ]
  },
  {
   "cell_type": "code",
   "execution_count": null,
   "metadata": {},
   "outputs": [],
   "source": [
    "name = input(\"請輸入想查詢的個股名稱：\")\n",
    "df_analysis[df_analysis[\"company\"] == name]\n"
   ]
  },
  {
   "cell_type": "code",
   "execution_count": null,
   "metadata": {},
   "outputs": [],
   "source": []
  },
  {
   "cell_type": "code",
   "execution_count": null,
   "metadata": {},
   "outputs": [],
   "source": [
    "today = datetime(2019,8,16)\n",
    "df_month = df[df[\"date\"] >= (today - timedelta(days=30))]\n",
    "df_2330 = df_month[df_month[\"company\"] == \"台積電\"]\n",
    "df_2330['content']"
   ]
  },
  {
   "cell_type": "code",
   "execution_count": null,
   "metadata": {},
   "outputs": [],
   "source": [
    "from snownlp import SnowNLP\n",
    "text = df_2330['content'][0]\n",
    "s = SnowNLP(text)\n",
    "sentences = s.sentences\n",
    "total = 0\n",
    "for sentence in sentences:\n",
    "    k = SnowNLP(sentence)\n",
    "    total += k.sentiments\n",
    "print(total / len(sentences))\n"
   ]
  },
  {
   "cell_type": "code",
   "execution_count": null,
   "metadata": {},
   "outputs": [],
   "source": [
    "text"
   ]
  },
  {
   "cell_type": "code",
   "execution_count": null,
   "metadata": {},
   "outputs": [],
   "source": [
    "news= (r'為了提倡環保，台灣吹起電動車的風潮，路上處處可見電動車的身影，但你有看過郵務員也騎著電動車送信嗎？一名女網友在臉書社團「台北之北投幫」PO文，分享出門遇到趣事，送信的郵差騎的不是傳統野狼而是電動車GOGORO，萌萌的模樣讓原PO直呼超可愛，主動上前求拍照對方竟毫無猶豫的擺出姿勢隨便她照，逗趣行為相當可愛，也引起眾多網友熱議。「台北之北投幫」社團，一名女網友分享故事，敘述自己在公館路上看到郵差送信，仔細一看發現郵差騎的不是傳統的野狼125，而是超可愛、全身綠油油的GOGORO，不止超搭也超可愛毫無違和感，還帶著一股親和力，被萌翻的原PO急忙詢問郵差是否能拍照留念，對方也馬上擺出超專業姿勢任由拍照。原PO文章與照片一貼出，立刻萌翻一大票網友紛紛來朝聖，直呼「超可愛的」、「剛剛出門才遇到他」、「有質感的郵差先生辛苦了」、「似乎也進了gogoro的警用電動車」、「也有gogoro警車啊」、「真的有點可愛」、「我的天啊！郵差都騎gogoro了啊！」「比較不會被狗追了」、「好人好事好車」。其實早在2017年起，中華郵政就積極配合政府政策，逐步推動將燃油機車更換為電動機車，目標在2023年完成全面汰換近9000輛汽油機車，預估每年可以減少7.5座大安森林公園面積的碳排放量，一同為環保盡一份心力。')\n",
    "s=SnowNLP(news)       \n",
    "content = s.sentences\n",
    "len(content)\n",
    "total = 0\n",
    "for sentense in content:\n",
    "    y = SnowNLP(sentence)\n",
    "    y.sentiments\n",
    "    total += y.sentiments\n",
    "print(total/len(content))\n",
    "s.keywords(5)\n",
    "s.summary(10)\n",
    "simplified = s.han\n",
    "s1 = SnowNLP(simplified)\n",
    "s1.tf\n",
    "s1.idf\n",
    "s1.keywords(10)"
   ]
  }
 ],
 "metadata": {
  "kernelspec": {
   "display_name": "Python 3",
   "language": "python",
   "name": "python3"
  },
  "language_info": {
   "codemirror_mode": {
    "name": "ipython",
    "version": 3
   },
   "file_extension": ".py",
   "mimetype": "text/x-python",
   "name": "python",
   "nbconvert_exporter": "python",
   "pygments_lexer": "ipython3",
   "version": "3.6.9"
  }
 },
 "nbformat": 4,
 "nbformat_minor": 2
}
